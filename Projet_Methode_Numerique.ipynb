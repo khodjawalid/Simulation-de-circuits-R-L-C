{
 "cells": [
  {
   "cell_type": "markdown",
   "id": "d3a10d38",
   "metadata": {},
   "source": [
    "# Projet de simulation de Circuits R,L et C :\n",
    "\n",
    "## Noms des participants :\n",
    "\n",
    "   - **BAFOU Imad**\n",
    "   - **KHODJA Walid Abdelaziz**\n",
    "   - **NAIMI Ferras Islem**\n",
    "   - **OUAZAR Rayan** \n",
    "\n"
   ]
  },
  {
   "cell_type": "markdown",
   "id": "9abc6c7b",
   "metadata": {},
   "source": [
    "## Tables des matières :\n",
    "   - **[Introduction](#1.-Introduction-:) :**\n",
    "        - Contexte.\n",
    "        - Objectif.\n",
    "        - Méthodologie.\n",
    "   <br>&nbsp;   \n",
    "   - **[Description des méthodes](#2.-Description-des-methodes-:) :**\n",
    "        - Méthode d'Euler.\n",
    "        - Méthode de Runge-Kutta.\n",
    "        - Méthode des différences finies.\n",
    "   <br>&nbsp;    \n",
    "   - **[Circuits du 1er ordre](#3.-Circuits-du-1er-ordre-:) :**\n",
    "        - Circuit RC.\n",
    "        - Circuit CR.\n",
    "        - Circuit RL.\n",
    "        - Circuit LR.\n",
    "   <br>&nbsp;        \n",
    "   - **[Circuit du 2nd ordre : RLC](#4.-Circuit-du-2nd-ordre-:-RLC-:) :**\n",
    "       - Sortie aux bornes du condensateur.\n",
    "       - Sortie aux bornes de la résistance.\n",
    "       - Sortie aux bornes de l'inductance\n",
    "   <br>&nbsp;\n",
    "   - **[Application et fonction d'appel](#5.-Application-et-fonction-d'appel-:) :**\n",
    "       - Appel individuel de circuit.\n",
    "       - Casquade de cirucits\n",
    "   <br>&nbsp;\n",
    "   - **[Remarques globales](#6.-Remarques-globales:) :**\n",
    "       \n",
    "       \n",
    "   <br>&nbsp;<br>&nbsp;<br>&nbsp;\n",
    "\n"
   ]
  },
  {
   "cell_type": "markdown",
   "id": "7e933e46",
   "metadata": {},
   "source": [
    "**REMARQUE :** veuillez noter que les deux dossiers en complément (python_circuit_simu et circuit) contiennent des images utilisées pour le notebook, il faut donc les garder enssemble "
   ]
  },
  {
   "cell_type": "markdown",
   "id": "f60a88d6",
   "metadata": {},
   "source": [
    "-----------------------------------------------------------------------------------------------------------------------"
   ]
  },
  {
   "cell_type": "markdown",
   "id": "c2892b6f",
   "metadata": {},
   "source": [
    "## 1. Introduction :\n",
    "\n",
    "### &nbsp;&nbsp;&nbsp;&nbsp;&nbsp; 1. Objectif : \n",
    "   <p align=\"justify\"> On cherche dans ce projet à <strong>étudier la réponse de circuits</strong> plus ou moins complexes composés de <strong>résistances (R), d’inductances (L)</strong> et/ou de <strong>capacités (C)</strong> dans le domaine temporel à une excitation arbitraire. Ceci en partant des équations différentielles de ces circuits.  </p>\n",
    "\n",
    "### &nbsp;&nbsp;&nbsp;&nbsp;&nbsp; 2. Contexte :\n",
    "   <p align=\"justify\"> Cette étude sera faite à l’aide d’outils de calculs et méthodes de résolution numérique, notamment d’interpolation polynomiale… et de résolution d'équations différentielles, plus précisément ; les <strong> méthodes  d’Euler, de Runge-Kutta et des différences finies </strong>. </p>\n",
    "    \n",
    "### &nbsp;&nbsp;&nbsp;&nbsp;&nbsp; 3. Méthodologie :\n",
    "**Circuit par circuit**, on va : \n",
    "   - Développer l'équation différentielle.\n",
    "   - Développer l'équation tel qu’on aura **Vo(n+1) en fonction du reste**, en utilisant les méthodes citées une à une.\n",
    "   - Tester chaque méthode avec des entrées de type : carré, sinusoïdale et l’entrée type triangle donnée (interpolée).\n",
    "   - Afficher les résultats (sorties).\n",
    "   - Comparer avec les resultats theoriques / Etudier alors la justesse de chaque méthode.\n",
    "   - Conclure.\n",
    "   \n",
    "<p align=\"justify\"> <strong>Remarque :</strong> On s'intéresse pour notre étude quand aux résultats attendus à la réponse du circuit à une <strong>entrée de type signal carré</strong> -selon nous plus représentative des caractéristiques du circuit et de son composants-. Bien évidement, en pratique, les circuits accéptent d'autres types d'entrée. </p>\n",
    "\n",
    "   <br>&nbsp;<br>&nbsp;\n",
    "\n"
   ]
  },
  {
   "cell_type": "markdown",
   "id": "291f5437",
   "metadata": {},
   "source": [
    "-----------------------------------------------------------------------------------------------------------------------"
   ]
  },
  {
   "cell_type": "markdown",
   "id": "da7381fc",
   "metadata": {},
   "source": [
    "## 2. Description des methodes :"
   ]
  },
  {
   "cell_type": "markdown",
   "id": "20c4fb02",
   "metadata": {},
   "source": [
    "## &nbsp;&nbsp;&nbsp;&nbsp;&nbsp; 1. Avant propos :\n",
    "\n",
    "<p align=\"justify\">Les trois méthodes utilisées nécessitent une <strong>discrétisation du temps</strong></strong>, en outre de diviser l'intervalle de temps d'analyse en petits pas -noté h- , Cela aidera au calcul et notamment à l'approximation des dérivées. </p>\n",
    "<p align=\"justify\">Aussi, les valeurs initiales sont nulles. </p> \n",
    "<p align=\"justify\">Les <strong>algorythmes</strong> sont éssenciellement les memes, une boucle iterative qui calculera la valeur prochaine de la sortie en fonction de certains parametres qui eux dépéndrant de la méthode utilisées, on verra alors les formules. </p> \n",
    "\n",
    "<br>&nbsp;\n",
    "\n",
    "## &nbsp;&nbsp;&nbsp;&nbsp;&nbsp; 2. Méthode d'Euler :\n",
    "<p align=\"justify\"> La formule itérative à utiliser est la suivante : </p> \n",
    "\n",
    "$ Vo[n+1] = Vo[n] + h.f(tn, Vo[n])$ &nbsp;  tel que : \n",
    "<br> &nbsp;\n",
    "<br> &nbsp;&nbsp;&nbsp;&nbsp;&nbsp;&nbsp;&nbsp;&nbsp;&nbsp;&nbsp;&nbsp; **Vo[n]** est la valeur de la solution à l'instant **t**n.\n",
    "<br> &nbsp;&nbsp;&nbsp;&nbsp;&nbsp;&nbsp;&nbsp;&nbsp;&nbsp;&nbsp;&nbsp; \n",
    "**f(h, Vo[n])** est la dérivée de la solution par rapport au temps à l'instant **t**n\n",
    "\n",
    "<br>&nbsp;\n",
    "\n",
    "\n",
    "## &nbsp;&nbsp;&nbsp;&nbsp;&nbsp; 3. Méthode de Runge-Kutta :\n",
    "\n",
    "<p align=\"justify\"> La formule itérative à utiliser est la suivante : </p> \n",
    "\n",
    "<br>&nbsp; \n",
    "$ RK1 = h.f(h, Vo[n]) $ <br>&nbsp;\n",
    "$ RK2 =  h.f(tn + \\frac{h}{2}, Vo[n] + \\frac{h}{2})$ <br>&nbsp;\n",
    "$Vo[n+1] = Vo[n] + RK1 + RK2 $ &nbsp;  \n",
    "<br> &nbsp; tel que : \n",
    "<br> &nbsp;\n",
    "<br> &nbsp;&nbsp;&nbsp;&nbsp;&nbsp;&nbsp;&nbsp;&nbsp;&nbsp;&nbsp;&nbsp; **Vo[n]** est la valeur de la solution à l'instant **t**n.\n",
    "<br> &nbsp;&nbsp;&nbsp;&nbsp;&nbsp;&nbsp;&nbsp;&nbsp;&nbsp;&nbsp;&nbsp; \n",
    "**f(h, Vo[n])** est la dérivée de la solution par rapport au temps à l'instant **t**n\n",
    "\n",
    "<br>&nbsp;\n",
    "\n",
    "\n",
    "## &nbsp;&nbsp;&nbsp;&nbsp;&nbsp; 4. Méthode des Differences Finies:\n",
    "    \n",
    "\n",
    "<p align=\"justify\"> La méthode des différences finies se caractérise par son calcul des derivée, ici on prendra la différenciation centrée car plus précice et dont la formule est la suivante : </p> \n",
    "\n",
    "&nbsp;&nbsp;&nbsp;&nbsp;&nbsp;&nbsp;&nbsp;&nbsp;&nbsp;&nbsp;&nbsp;\n",
    "$\\frac{dVo[t]}{dt} = \\frac{Vo[t+h] - Vo[t-h]}{2h} $; \n",
    "\n",
    "<p align=\"justify\"> et donc numeriquement :</p> \n",
    "\n",
    "&nbsp;&nbsp;&nbsp;&nbsp;&nbsp;&nbsp;&nbsp;&nbsp;&nbsp;&nbsp;&nbsp;\n",
    "$\\frac{dVo[t]}{dt} = \\frac{Vo[n+1] - Vo[n-1]}{2h} $; \n",
    "\n",
    "<p align=\"justify\"> notons qu'on cherche a calculer Vo[n+1]. Si l'on prends l'exemple du circuit RC, l'application de la méthode sur l'équation différentielle donnerait :  </p> \n",
    "\n",
    "&nbsp;&nbsp;&nbsp;&nbsp;&nbsp;&nbsp;&nbsp;&nbsp;&nbsp;&nbsp;&nbsp;\n",
    "$\\frac{dVo[t]}{dt} = \\frac{Vo[n+1] - Vo[n-1]}{2h} = \\frac{Ve[n] - Vo[n]}{𝝉} $;\n",
    "\n",
    "<p align=\"justify\"> Et donc, l'expression de Vo[n+1] donnerait :  </p>\n",
    "\n",
    "&nbsp;&nbsp;&nbsp;&nbsp;&nbsp;&nbsp;&nbsp;&nbsp;&nbsp;&nbsp;&nbsp;\n",
    "$ Vo[n+1] = 2h. \\frac{Ve[n] - Vo[n]}{𝝉} + Vo[n-1] $;\n",
    "\n",
    "\n",
    "<br>&nbsp;<br>&nbsp;\n",
    "\n",
    "\n"
   ]
  },
  {
   "cell_type": "markdown",
   "id": "2c321a51",
   "metadata": {},
   "source": [
    "-----------------------------------------------------------------------------------------------------------------------"
   ]
  },
  {
   "cell_type": "markdown",
   "id": "2d04f54d",
   "metadata": {},
   "source": [
    "\n",
    "## 3. Circuits du 1er ordre :"
   ]
  },
  {
   "cell_type": "markdown",
   "id": "964469eb",
   "metadata": {},
   "source": [
    "\n",
    "## &nbsp;&nbsp;&nbsp;&nbsp;&nbsp; 1. Circuit RC.\n",
    "   <img src=\"Circuit\\RC.png\" width=\"250\"> \n",
    "\n",
    "   ### 1. Représentation théorique :\n",
    "   <p align=\"justify\"> Le circuit ci dessus est un circuit composée d'une résistance en série avec un condensateur, une tension d’entrée <strong>Ve</strong> y est injectée et une tension de sortie <strong>Vo</strong> est mesurée <strong>aux bornes du condensateur</strong>. </p>  \n",
    "   \n",
    "   <p align=\"justify\"> <strong>L'equation differentielle</strong> du circuit RC est donné par :</p>\n",
    "   \n",
    "&nbsp;&nbsp;&nbsp;&nbsp;&nbsp;&nbsp;&nbsp;&nbsp; $ 𝝉 \\frac{dVo}{dt}  + Vo = Ve $\n",
    "&nbsp;&nbsp;&nbsp;&nbsp; ou&nbsp;&nbsp;&nbsp;&nbsp;      $ 𝝉 = RC $   \n",
    "\n",
    "   ### 2. Résultats attendues :\n",
    "      \n",
    "   <img src=\"Python_circuit_simu\\RC.png\" width=\"350\">\n",
    "\n",
    "   <p align=\"justify\"> On voit que la réponse <strong>tend à rejoindre l'entrée</strong>, le temps qu'elle prend à le faire dépendra lui justement des valeurs de R et de C.</p>\n",
    "   <p align=\"justify\"> Ceci est resultat de la charge et décharge du condensateur.</p>\n",
    "   \n",
    "   \n",
    "   \n",
    "   ### 3. Remarques :\n",
    "   \n",
    "   - Ce circuit RC agit comme un **filtre passe bas**, on le voit assez clairement en variant les fréquences tel que :\n",
    "    \t- **avant la fréquence de coupure**  \t : on retrouve quasiment le signal d'entrée.\n",
    "    \t- **autour de la fréquence de coupure**  : on retrouve une faible atténuation.\n",
    "    \t- **apres la fréquence de coupure**  \t : le signal ne cesse de s'atténuer\n",
    "\n",
    "<br>&nbsp;<br>&nbsp;"
   ]
  },
  {
   "cell_type": "markdown",
   "id": "e728b704",
   "metadata": {},
   "source": [
    "\n",
    "\n",
    "## &nbsp;&nbsp;&nbsp;&nbsp;&nbsp; 2. Circuit CR.\n",
    "   <img src=\"Circuit\\CR.png\" width=\"250\"> \n",
    "\n",
    "   ### 1. Représentation théorique :\n",
    "   <p align=\"justify\"> Le circuit ci dessus est un circuit composée d'un condensateur en série avec une resistance, une tension d’entrée <strong>Ve</strong> y est injectée et une tension de sortie <strong>Vo</strong> est mesurée <strong>aux bornes de la résistance</strong>. </p>  \n",
    "   \n",
    "   <p align=\"justify\"> <strong>L'equation differentielle</strong> du circuit CR est donné par :</p>\n",
    "   \n",
    "&nbsp;&nbsp;&nbsp;&nbsp;&nbsp;&nbsp;&nbsp;&nbsp; $ \\frac{dVo}{dt}  + \\frac{1}{𝝉} Vo = \\frac{dVe}{dt} $ \n",
    "&nbsp;&nbsp;&nbsp;&nbsp; ou&nbsp;&nbsp;&nbsp;&nbsp;      $ 𝝉 = RC $   \n",
    "\n",
    "   ### 2. Résultats attendues :\n",
    "     \n",
    "   <img src=\"Python_circuit_simu\\CR.png\" width=\"350\">\n",
    "   \n",
    "   <p align=\"justify\"> De même que dans le circuit précédent, on voit l'effet du condensateur, à la différence que dans le circuit CR, c'est aux bornes de la résistance qu'est prise la mesure.</p>\n",
    "   <p align=\"justify\"> Cette différence implique que le condensateur après s'être chargé se déchargera <strong>dans la résistance</strong>, celle-ci <strong>accumulera alors les deux tension Ve et Uc</strong> le temps que Uc se décharge. </p>\n",
    "   <p align=\"justify\"> Idem, la durée de la décharge dépendra de R et de C. </p>\n",
    "   <p align=\"justify\"> Pour un signal carré ou le changement de polarisation de l'entrée est brusque, cela induit un dépassement de la sortie. </p>\n",
    "\n",
    "    \n",
    "   ### 3. Remarques :\n",
    "   \n",
    "   - Ce circuit CR agit comme un **filtre passe haut**, on le voit assez clairement en variant les fréquences tel que :\n",
    "    \t- **avant la fréquence de coupure**  \t : le signal est fortement attenué.\n",
    "    \t- **autour de la fréquence de coupure**  : on retrouve une faible atténuation.\n",
    "    \t- **apres la fréquence de coupure**  \t : le signal tends de plus en plus vers le signal d'entrée.\n",
    "   \n",
    "   <br>&nbsp;<br>&nbsp;\n",
    "\n",
    "\n",
    "\n"
   ]
  },
  {
   "cell_type": "markdown",
   "id": "cf1af950",
   "metadata": {},
   "source": [
    "\n",
    "\n",
    "## &nbsp;&nbsp;&nbsp;&nbsp;&nbsp; 3. Circuit RL.\n",
    "   <img src=\"Circuit\\RL.png\" width=\"250\"> \n",
    "\n",
    "   ### 1. Représentation théorique :\n",
    "   <p align=\"justify\"> Le circuit ci dessus est un circuit composée d'une résistance en série avec une inductance, une tension d’entrée <strong>Ve</strong> y est injectée et une tension de sortie <strong>Vo</strong> est mesurée <strong>aux bornes de l'inductance</strong>. </p> \n",
    "   <p align=\"justify\"> <strong>L'equation differentielle</strong> du circuit RL est donné par :</p>\n",
    "   \n",
    "&nbsp;&nbsp;&nbsp;&nbsp;&nbsp;&nbsp;&nbsp;&nbsp; $ \\frac{dVo}{dt}  + \\frac{1}{𝝉} Vo = \\frac{dVe}{dt} $ \n",
    "&nbsp;&nbsp;&nbsp;&nbsp; ou&nbsp;&nbsp;&nbsp;&nbsp;      $ 𝝉 = \\frac{L}{R} $   \n",
    "\n",
    "   ### 2. Résultats attendues :\n",
    "     \n",
    "   <img src=\"Python_circuit_simu\\RL.png\" width=\"350\">\n",
    "   \n",
    "   <p align=\"justify\"> Un peu a la manière du circuit RC, la tension aux bornes de l'inductance tend graduellement vers l’entrée Ve, au détail près que dans ce circuit, la bobine ne se “charge” pas, elle s'<strong>oppose simplement au passage du courant</strong>, cet effet \"dit d'<strong>Auto Induction</strong>\" crée par ailleurs une différence de potentiel à ses bornes, différence qui s'oppose à la variation de tension appliquée par l'entrée.</p>\n",
    "\n",
    "\n",
    "    \n",
    "   ### 3. Remarques :\n",
    "   \n",
    "   - Ce circuit RL agit comme un **filtre passe bas**, on le voit assez clairement en variant les fréquences.\n",
    "   - La fréquence de coupure du circuit LR est de la forme :\n",
    "   $ Fc = \\frac{R}{2\\pi\\ L}$\n",
    "\n",
    "   <br>&nbsp;<br>&nbsp;\n",
    "\n",
    "\n",
    "\n"
   ]
  },
  {
   "cell_type": "markdown",
   "id": "ece56b57",
   "metadata": {},
   "source": [
    "\n",
    "\n",
    "## &nbsp;&nbsp;&nbsp;&nbsp;&nbsp; 4. Circuit LR.\n",
    "   <img src=\"Circuit\\LR.png\" width=\"250\"> \n",
    "\n",
    "   ### 1. Représentation théorique :\n",
    "   <p align=\"justify\"> Le circuit ci dessus est un circuit composée d'une inductance en série avec une résistance, une tension d’entrée <strong>Ve</strong> y est injectée et une tension de sortie <strong>Vo</strong> est mesurée <strong>aux bornes de la résistance</strong>. </p> \n",
    "   <p align=\"justify\"> <strong>L'equation differentielle</strong> du circuit LR est donné par :</p>\n",
    "   \n",
    "&nbsp;&nbsp;&nbsp;&nbsp;&nbsp;&nbsp;&nbsp;&nbsp; $ 𝝉.\\frac{dVo}{dt}  +  Vo = Ve $ \n",
    "&nbsp;&nbsp;&nbsp;&nbsp; ou&nbsp;&nbsp;&nbsp;&nbsp;      $ 𝝉 = \\frac{L}{R} $   \n",
    "\n",
    "   ### 2. Résultats attendues :\n",
    "     \n",
    "   <img src=\"Python_circuit_simu\\LR.png\" width=\"350\">\n",
    "   \n",
    "   <p align=\"justify\"> L'effet d'<strong>Auto Induction</strong> de la bobine (évoqué dans le circuit RL) fait qu'au moment où la polarisation de la tension d'entrée change, la différence de potentiel aux borne de l'inductance rejoint celle de la source Ve et <strong>les deux s'additionnent</strong>, la tension résultante aux bornes de la résistance est alors supérieure à celle de la source. </p>\n",
    "   <p align=\"justify\">La tension de la bobine s'inverse et vient de nouveau graduellement \"contrer\" Ve.</p>\n",
    "\n",
    "   ### 3. Remarques :\n",
    "   \n",
    "   - Ce circuit LR agit comme un **filtre passe haut**, on le voit assez clairement en variant les fréquences.\n",
    "   - La fréquence de coupure du circuit LR est de la forme :\n",
    "   $ Fc = \\frac{1}{2\\pi\\ RL}$\n",
    "\n",
    "   \n",
    "   <br>&nbsp;<br>&nbsp;\n",
    "\n"
   ]
  },
  {
   "cell_type": "markdown",
   "id": "59383e2c",
   "metadata": {},
   "source": [
    "-----------------------------------------------------------------------------------------------------------------------"
   ]
  },
  {
   "cell_type": "markdown",
   "id": "5d5d947e",
   "metadata": {},
   "source": [
    "## 4. Circuit du 2nd ordre : RLC :\n",
    "\n",
    "\n",
    "   <img src=\"Circuit\\RLC.png\" width=\"250\"> \n",
    "   <br>&nbsp;\n",
    "   <p align=\"justify\"> Le circuit ci dessus est un circuit composée d'une inductance en série avec une résistance et un condensateur, une tension d’entrée <strong>Ve</strong> y est injectée, on étudera la réponse au bornes de <strong>chaque composant</strong>. </p>\n",
    "    \n",
    "   ## &nbsp;&nbsp;&nbsp;&nbsp;&nbsp; 1. Aux bornes du condensateur: \n",
    "   \n",
    "   ### 1. Représentation théorique :\n",
    "   <p align=\"justify\">La tension de sortie <strong>Vc</strong> est mesurée <strong>aux bornes du condensateur</strong>. </p> \n",
    "   <p align=\"justify\"> <strong>L'equation differentielle</strong> du circuit RLC est dans ce cas est donné par :</p>\n",
    "   \n",
    "&nbsp;&nbsp;&nbsp;&nbsp;&nbsp;&nbsp;&nbsp;&nbsp; $ LC . \\frac{d^2Vc}{dt^2} + RC. \\frac{dVc}{dt} + Uc = Ve $ \n",
    "<br>&nbsp;\n",
    "\n",
    "   ### 2. Résultats attendues :\n",
    "        \n",
    "   <p align=\"justify\"> Le circuit RLC est souvant référencé comme étant un filtre passe bande, mais dans le cas ou la tension est <strong>mesurée aux bornes du condensateur</strong>, le circuit fait l'effet d'un filtre <strong>passe bas</strong>. </p>\n",
    "   <p align=\"justify\"> On peut le voir en faisant varier les fréquences et en observant la sortie. voici donc trois exemples de cela: </p>\n",
    "      <p align=\"justify\"> <strong>Pour de tres basses frénquences</strong> :</p>\n",
    "   <img src=\"Python_circuit_simu\\RLC_a_f_inf_Fc.png\" width=\"350\">\n",
    "      <p align=\"justify\"> <strong>Pour une la fréquence de résonance</strong> :</p>\n",
    "   <img src=\"Python_circuit_simu\\RLC_a_Fc.png\" width=\"350\">\n",
    "      <p align=\"justify\"> <strong>Pour une fréquence élevée</strong> :</p>\n",
    "   <img src=\"Python_circuit_simu\\RLC_a_f_sup_Fc.png\" width=\"350\">\n",
    "   <br>&nbsp;\n",
    "   \n",
    "\n",
    "\n",
    "   <p align=\"justify\"> Par ailleurs, une modélisation du circuit en utilisant Matlab et en générant le diagramme de Bode permet clairement de voir l'effet passe bas : </p>\n",
    "   <img src=\"Python_circuit_simu\\RLC_Bode_Vc.png\" width=\"450\"> \n",
    "   <br>&nbsp;\n",
    "    \n",
    "   ## &nbsp;&nbsp;&nbsp;&nbsp;&nbsp; 2. Aux bornes de la résistance: \n",
    "\n",
    "   ### 1. Représentation théorique :\n",
    "\n",
    "   <p align=\"justify\">La tension de sortie <strong>Vr</strong> est mesurée <strong>aux bornes du condensateur</strong>. </p> \n",
    "   <p align=\"justify\"> <strong>L'equation differentielle</strong> du circuit RLC est dans ce cas est donné par :</p>\n",
    "   \n",
    "&nbsp;&nbsp;&nbsp;&nbsp;&nbsp;&nbsp;&nbsp;&nbsp; \n",
    "$  \\frac{L}{R}  \\frac{d^2Vr}{dt^2} + \\frac{dVr}{dt}+ \\frac{1}{RC} Vr  = \\frac{dVe}{dt} $ \n",
    "<br>&nbsp;\n",
    "\n",
    "\n",
    "   ### 2. Résultats attendues :\n",
    "        \n",
    "   <p align=\"justify\"> Quand la mesure se fait aux bornes de la résistance Par contre, on retrouve bien un effet de filtre <strong>passe bande</strong>. </p>\n",
    "   <br>&nbsp;\n",
    "   \n",
    "   <p align=\"justify\"> Idem, une modélisation du circuit en utilisant Matlab et en générant le diagramme de Bode permet clairement de voir l'effet passe bande : </p>\n",
    "   <img src=\"Python_circuit_simu\\RLC_Bode_Vr.png\" width=\"450\"> \n",
    "   \n",
    "   <br>&nbsp;\n",
    "    \n",
    "   ## &nbsp;&nbsp;&nbsp;&nbsp;&nbsp; 3. Aux bornes de l'Inductance: \n",
    "\n",
    "   ### 1. Représentation théorique :\n",
    "\n",
    "   <p align=\"justify\">La tension de sortie <strong>Vr</strong> est mesurée <strong>aux bornes de l'inductance</strong>. </p> \n",
    "   <p align=\"justify\"> <strong>L'equation differentielle</strong> du circuit RLC est dans ce cas est donné par :</p>\n",
    "   \n",
    "&nbsp;&nbsp;&nbsp;&nbsp;&nbsp;&nbsp;&nbsp;&nbsp; \n",
    "$  \\frac{d^2Vl}{dt^2} + \\frac{R}{L}  \\frac{dVl}{dt}+ \\frac{1}{LC} Vl  = \\frac{d^2Ve}{dt^2} $ \n",
    "<br>&nbsp;\n",
    "\n",
    "\n",
    "   ### 2. Résultats attendues :\n",
    "        \n",
    "   <p align=\"justify\"> Le circuit avec la tension aux bornes de la résistance parcontre fait l'effet d'un filtre <strong>passe haut</strong>. </p>\n",
    "   <br>&nbsp;\n",
    "   \n",
    "   <p align=\"justify\"> Idem, une modélisation du circuit en utilisant Matlab et en générant le diagramme de Bode permet clairement de voir l'effet <strong>passe haut</strong> : </p>\n",
    "   <img src=\"Python_circuit_simu\\RLC_Bode_Vl.jpg\" width=\"450\"> \n",
    "   \n",
    "   <br>&nbsp;\n",
    "   \n",
    "   ## &nbsp;&nbsp;&nbsp;&nbsp;&nbsp; 4. Remarque RLC: \n",
    "\n",
    "     \n",
    "   <p align=\"justify\"> <strong>La fréquence de résonance</strong> pour un circuit RLC est la fréquence à laquelle les impédences inductive et capacitive ont la même amplitude mais de polarités opposées, ce qui les annule mutuellement. À cette fréquence, le circuit présente une impédance purement résistive.</p>\n",
    "\n",
    "$ Fr = \\frac{1}{2\\pi \\sqrt{LC}}\\$\n",
    "   \n",
    "   <br>&nbsp;<br>&nbsp;\n",
    "\n",
    "\n"
   ]
  },
  {
   "cell_type": "markdown",
   "id": "88ce0731",
   "metadata": {},
   "source": [
    "-----------------------------------------------------------------------------------------------------------------------"
   ]
  },
  {
   "cell_type": "markdown",
   "id": "71d01d9f",
   "metadata": {},
   "source": [
    "## 5. Application et fonction d'appel :"
   ]
  },
  {
   "cell_type": "code",
   "execution_count": 2,
   "id": "1034f350",
   "metadata": {},
   "outputs": [],
   "source": [
    "#Import des bibliothéques et méthodes nécéssaires \n",
    "import numpy as np\n",
    "from matplotlib import pyplot as plt\n",
    "import scipy.interpolate as spl\n",
    "from principal import interp_ech, appel\n",
    "from principal import appel \n",
    "from principal import cascade"
   ]
  },
  {
   "cell_type": "markdown",
   "id": "22be36b2",
   "metadata": {},
   "source": [
    "### Appel individuel de circuit :\n",
    "\n",
    "   <p align=\"justify\"> Nous allons dans un premier temps générer les réponses des circuits pris individuellement.</p>\n",
    "   <p align=\"justify\"> Pour cela, suivez les instructions suivantes : </p>\n",
    "   \n",
    "   - Insérer un fichier (.npy) contenant les points de temps et de tensions associés dans OPEN.\n",
    "   - Ses données seront interpolées puis rééchantiollonnées, l'echantiollonnage se fait par defaut sur un million de points, vous pouvez cependant ajuster ce nombre a votre guise.\n",
    "   - Il ne vous restera qu'a choisir votre circuit et votre méthode de résolution désirés. \n",
    "\n",
    "<br>&nbsp;"
   ]
  },
  {
   "cell_type": "code",
   "execution_count": 3,
   "id": "2e6d733a",
   "metadata": {},
   "outputs": [
    {
     "data": {
      "image/png": "[encoded data removed]",
      "text/plain": [
       "<Figure size 640x480 with 1 Axes>"
      ]
     },
     "metadata": {},
     "output_type": "display_data"
    },
    {
     "name": "stdout",
     "output_type": "stream",
     "text": [
      "Veuillez choisir l'ordre du ciruit à étudier comme suit :  \n",
      " - 1 : cuircuit du premier ordre \n",
      " - 2 : ciruit du second ordre \n",
      "Veuillez choisir 1 ou 2 : 1\n",
      "Veuillez choisir la methode de résolution souhaitée parmis la liste suivante 'runge_kutta' 'euler' 'diff_finies'\n",
      "Veuillez choisir une methode : 1\n",
      "Vous avez choisis une méthode qui n'existe pas dans la liste\n",
      "vous avez choisis une methode qui n'éxiste pas dans la liste\n"
     ]
    }
   ],
   "source": [
    "#Insértion du fichier de donnée:\n",
    "\n",
    "with open(\"vIn.npy\", \"rb\") as f:  #REMPLACER_MOI_PAR_LE_FICHER\n",
    "    t, V = np.load(f), np.load(f)\n",
    "    \n",
    "\n",
    "# Intérpolation et rééchantillonnage :\n",
    "t1, v1 = interp_ech(t, V)    # Vous pourrez ajuster le nombre de points si besoin\n",
    "                             # insérer alors le paramétre N dans la fonction apres les paramétres deja presents\n",
    "\n",
    "# Fonction principale de calcul des réponses :\n",
    "Sortie = appel(t1, v1)"
   ]
  },
  {
   "cell_type": "markdown",
   "id": "2c94fbc9",
   "metadata": {},
   "source": [
    "### Cascade de cirucits :\n",
    "\n",
    "   <p align=\"justify\"> Après l'étude des circuits pris individuellement, On pourra dans cette partie cascader les circuit.</p>\n",
    "   <p align=\"justify\"> Pour cela, suivez les instructions suivantes : </p>\n",
    "   \n",
    "   - Insérer un fichier (.npy) contenant les points de temps et de tensions associés dans OPEN.\n",
    "   - Ses données seront interpolées puis rééchantiollonnées, l'echantiollonnage se fait par defaut sur un million de points, vous pouvez cependant ajuster ce nombre a votre guise.\n",
    "   - Choisir le nombre de circuits à cascader.\n",
    "   - Il ne vous restera plus qu'a choisir vos circuit **un a un** et votre méthode de résolution désirés. \n",
    "\n",
    "<br>&nbsp;\n"
   ]
  },
  {
   "cell_type": "code",
   "execution_count": 4,
   "id": "83f09814",
   "metadata": {},
   "outputs": [
    {
     "data": {
      "image/png": "[encoded data removed]",
      "text/plain": [
       "<Figure size 640x480 with 1 Axes>"
      ]
     },
     "metadata": {},
     "output_type": "display_data"
    },
    {
     "name": "stdout",
     "output_type": "stream",
     "text": [
      "Veuillez choisir le nombre de circuits à mettre en cascade : 1\n",
      "\n",
      "\n",
      "Veuillez configurez le ciruit numero  1  : \n",
      "Veuillez choisir l'ordre du ciruit à étudier comme suit :  \n",
      " - 1 : cuircuit du premier ordre \n",
      " - 2 : ciruit du second ordre \n",
      "Veuillez choisir 1 ou 2 : 1\n",
      "Veuillez choisir la methode de résolution souhaitée parmis la liste suivante 'runge_kutta' 'euler' 'diff_finies'\n",
      "Veuillez choisir une methode : 1\n",
      "Vous avez choisis une méthode qui n'existe pas dans la liste\n",
      "vous avez choisis une methode qui n'éxiste pas dans la liste\n",
      "La tension afficher est la tension de sortie des 1 filre cascadés\n"
     ]
    }
   ],
   "source": [
    "\n",
    "#Insértion du fichier de donnée:\n",
    "\n",
    "with open(\"vIn.npy\", \"rb\") as f:  #REMPLACER_MOI_PAR_LE_FICHER\n",
    "    t, V = np.load(f), np.load(f)\n",
    "    \n",
    "\n",
    "# Intérpolation et rééchantillonnage :\n",
    "t1, v1 = interp_ech(t, V)    # Vous pourrez ajuster le nombre de points si besoin\n",
    "                             # inserer alors le paramétre N dans la fonction apres les paramétres deja presents\n",
    "\n",
    "# Fonction de cascade des circuits :\n",
    "Sortie = cascade(t1, v1)\n"
   ]
  },
  {
   "cell_type": "markdown",
   "id": "087c54aa",
   "metadata": {},
   "source": [
    "<br>&nbsp;\n",
    "**Remarque** : Vous pourrez faire varier les fréquences et visualiser l'effet de la variation sur les amplitudes de sorties des differents circuit"
   ]
  },
  {
   "cell_type": "markdown",
   "id": "f9cf64a3",
   "metadata": {},
   "source": [
    "-----------------------------------------------------------------------------------------------------------------------"
   ]
  },
  {
   "cell_type": "markdown",
   "id": "1623d668",
   "metadata": {},
   "source": [
    "## 6. Remarques globales:\n",
    "\n",
    "   - Les méthodes d'**Euler** et de **Runge-Kutta** n'ont visiblement pas de problèmes.\n",
    "   <br>&nbsp;\n",
    "   - La méthode des **différences finies** a une limite majeure quand a la **fréquence du signal d'entrée** utilisé, on distingue alors deux cas ou la méthode diverge :\n",
    "   \n",
    "   \t- **Un Intervalle d'analyse et un nombre de points de calcul fixes :** changer la fréquence traduit une variation +/- rapide du signal d'entrée, ce qui implique des valeurs élevées de différences successives, l'erreur de machine induit alors une divergence de la méthode.\n",
    "  \t \n",
    "   \t- **Nombre de points fixe et analyse sur une période :** changer la fréquence reviendrait à changer l'intervalle d'analyse et donc le pas de temps, or, le nombre de points de de visualisation reste fixe et cela induit aussi a des erreurs.   \n",
    "  \t \n",
    "   \t<br>&nbsp;&nbsp;&nbsp;&nbsp;\n",
    "   \tUne solution serait d'utiliser un pas de temps extrêmement petit, et donc un nombre de points assez conséquent qui demanderait une puissance de calcul relativement élevée.\n",
    "    "
   ]
  }
 ],
 "metadata": {
  "kernelspec": {
   "display_name": "Python 3 (ipykernel)",
   "language": "python",
   "name": "python3"
  },
  "language_info": {
   "codemirror_mode": {
    "name": "ipython",
    "version": 3
   },
   "file_extension": ".py",
   "mimetype": "text/x-python",
   "name": "python",
   "nbconvert_exporter": "python",
   "pygments_lexer": "ipython3",
   "version": "3.11.5"
  }
 },
 "nbformat": 4,
 "nbformat_minor": 5
}
